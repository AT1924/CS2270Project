{
 "cells": [
  {
   "cell_type": "code",
   "execution_count": 1,
   "metadata": {},
   "outputs": [
    {
     "ename": "ModuleNotFoundError",
     "evalue": "No module named 'keras'",
     "output_type": "error",
     "traceback": [
      "\u001b[0;31m---------------------------------------------------------------------------\u001b[0m",
      "\u001b[0;31mModuleNotFoundError\u001b[0m                       Traceback (most recent call last)",
      "\u001b[0;32m<ipython-input-1-0c5f5b1928c5>\u001b[0m in \u001b[0;36m<module>\u001b[0;34m\u001b[0m\n\u001b[1;32m      4\u001b[0m \u001b[0;32mfrom\u001b[0m \u001b[0msklearn\u001b[0m\u001b[0;34m.\u001b[0m\u001b[0mmetrics\u001b[0m \u001b[0;32mimport\u001b[0m \u001b[0mmean_absolute_error\u001b[0m\u001b[0;34m\u001b[0m\u001b[0;34m\u001b[0m\u001b[0m\n\u001b[1;32m      5\u001b[0m \u001b[0;34m\u001b[0m\u001b[0m\n\u001b[0;32m----> 6\u001b[0;31m \u001b[0;32mfrom\u001b[0m \u001b[0mkeras\u001b[0m \u001b[0;32mimport\u001b[0m \u001b[0mbackend\u001b[0m \u001b[0;32mas\u001b[0m \u001b[0mK\u001b[0m\u001b[0;34m\u001b[0m\u001b[0;34m\u001b[0m\u001b[0m\n\u001b[0m\u001b[1;32m      7\u001b[0m \u001b[0;32mfrom\u001b[0m \u001b[0mkeras\u001b[0m\u001b[0;34m.\u001b[0m\u001b[0mlayers\u001b[0m \u001b[0;32mimport\u001b[0m \u001b[0;34m*\u001b[0m\u001b[0;34m\u001b[0m\u001b[0;34m\u001b[0m\u001b[0m\n\u001b[1;32m      8\u001b[0m \u001b[0;32mfrom\u001b[0m \u001b[0mkeras\u001b[0m\u001b[0;34m.\u001b[0m\u001b[0mmodels\u001b[0m \u001b[0;32mimport\u001b[0m \u001b[0;34m*\u001b[0m\u001b[0;34m\u001b[0m\u001b[0;34m\u001b[0m\u001b[0m\n",
      "\u001b[0;31mModuleNotFoundError\u001b[0m: No module named 'keras'"
     ]
    }
   ],
   "source": [
    "import pandas as pd   \n",
    "import numpy as np\n",
    "import matplotlib.pyplot as plt\n",
    "from sklearn.metrics import mean_absolute_error\n",
    "\n",
    "from keras import backend as K\n",
    "from keras.layers import *\n",
    "from keras.models import *\n",
    "from keras.callbacks import *"
   ]
  },
  {
   "cell_type": "code",
   "execution_count": null,
   "metadata": {},
   "outputs": [],
   "source": [
    "### READ DATA ###\n",
    "\n",
    "df = pd.read_csv('Punta_Salute_2009.csv', sep=';')\n",
    "df = df.dropna()\n",
    "\n",
    "print(df.shape)\n",
    "df.head()"
   ]
  },
  {
   "cell_type": "code",
   "execution_count": null,
   "metadata": {},
   "outputs": [],
   "source": [
    "### PLOT WEEKLY TREND ###\n",
    "\n",
    "df[:7*24]['Livello P.Salute Canal Grande (cm)'].plot(y='Livello P.Salute Canal Grande (cm)', x='Ora solare', figsize=(8,6))"
   ]
  },
  {
   "cell_type": "code",
   "execution_count": 2,
   "metadata": {},
   "outputs": [
    {
     "ename": "NameError",
     "evalue": "name 'Layer' is not defined",
     "output_type": "error",
     "traceback": [
      "\u001b[0;31m---------------------------------------------------------------------------\u001b[0m",
      "\u001b[0;31mNameError\u001b[0m                                 Traceback (most recent call last)",
      "\u001b[0;32m<ipython-input-2-edb50c978085>\u001b[0m in \u001b[0;36m<module>\u001b[0;34m\u001b[0m\n\u001b[1;32m      1\u001b[0m \u001b[0;31m### DEFINE T2V LAYER ###\u001b[0m\u001b[0;34m\u001b[0m\u001b[0;34m\u001b[0m\u001b[0;34m\u001b[0m\u001b[0m\n\u001b[1;32m      2\u001b[0m \u001b[0;34m\u001b[0m\u001b[0m\n\u001b[0;32m----> 3\u001b[0;31m \u001b[0;32mclass\u001b[0m \u001b[0mT2V\u001b[0m\u001b[0;34m(\u001b[0m\u001b[0mLayer\u001b[0m\u001b[0;34m)\u001b[0m\u001b[0;34m:\u001b[0m\u001b[0;34m\u001b[0m\u001b[0;34m\u001b[0m\u001b[0m\n\u001b[0m\u001b[1;32m      4\u001b[0m \u001b[0;34m\u001b[0m\u001b[0m\n\u001b[1;32m      5\u001b[0m     \u001b[0;32mdef\u001b[0m \u001b[0m__init__\u001b[0m\u001b[0;34m(\u001b[0m\u001b[0mself\u001b[0m\u001b[0;34m,\u001b[0m \u001b[0moutput_dim\u001b[0m\u001b[0;34m=\u001b[0m\u001b[0;32mNone\u001b[0m\u001b[0;34m,\u001b[0m \u001b[0;34m**\u001b[0m\u001b[0mkwargs\u001b[0m\u001b[0;34m)\u001b[0m\u001b[0;34m:\u001b[0m\u001b[0;34m\u001b[0m\u001b[0;34m\u001b[0m\u001b[0m\n",
      "\u001b[0;31mNameError\u001b[0m: name 'Layer' is not defined"
     ]
    }
   ],
   "source": [
    "### DEFINE T2V LAYER ###\n",
    "\n",
    "class T2V(Layer):\n",
    "\n",
    "    def __init__(self, output_dim=None, **kwargs):\n",
    "        self.output_dim = output_dim\n",
    "        super(T2V, self).__init__(**kwargs)\n",
    "\n",
    "    def build(self, input_shape):\n",
    "        \n",
    "        self.W = self.add_weight(name='W', \n",
    "                              shape=(self.output_dim, self.output_dim),\n",
    "                              initializer='uniform',\n",
    "                              trainable=True)\n",
    "        \n",
    "        self.B = self.add_weight(name='B', \n",
    "                              shape=(input_shape[1], self.output_dim),\n",
    "                              initializer='uniform',\n",
    "                              trainable=True)\n",
    "        \n",
    "        self.w = self.add_weight(name='w', \n",
    "                              shape=(1, 1),\n",
    "                              initializer='uniform',\n",
    "                              trainable=True)\n",
    "        \n",
    "        self.b = self.add_weight(name='b', \n",
    "                              shape=(input_shape[1], 1),\n",
    "                              initializer='uniform',\n",
    "                              trainable=True)\n",
    "        \n",
    "        super(T2V, self).build(input_shape) \n",
    "\n",
    "    def call(self, x):\n",
    "        original = self.w * x + self.b\n",
    "        x = K.repeat_elements(x, self.output_dim, -1)\n",
    "        sin_trans = K.sin(K.dot(x, self.W) + self.B)\n",
    "        return K.concatenate([sin_trans,original], -1)\n",
    "\n",
    "    def compute_output_shape(self, input_shape):\n",
    "        return (input_shape[0], input_shape[1], self.output_dim+1)"
   ]
  },
  {
   "cell_type": "code",
   "execution_count": 5,
   "metadata": {},
   "outputs": [],
   "source": [
    "### CREATE GENERATOR FOR LSTM AND T2V ###\n",
    "\n",
    "sequence_length = 24\n",
    "\n",
    "def gen_sequence(id_df, seq_length, seq_cols):\n",
    "\n",
    "    data_matrix = id_df[seq_cols].values\n",
    "    num_elements = data_matrix.shape[0]\n",
    "\n",
    "    for start, stop in zip(range(0, num_elements-seq_length), range(seq_length, num_elements)):\n",
    "        yield data_matrix[start:stop, :]\n",
    "\n",
    "def gen_labels(id_df, seq_length, label):\n",
    "\n",
    "    data_matrix = id_df[label].values\n",
    "    num_elements = data_matrix.shape[0]\n",
    "\n",
    "    return data_matrix[seq_length:num_elements, :]"
   ]
  },
  {
   "cell_type": "code",
   "execution_count": 6,
   "metadata": {},
   "outputs": [],
   "source": [
    "### DEFINE MODEL STRUCTURES ###\n",
    "\n",
    "def T2V_NN(dim, t2v_dim):\n",
    "    inp = Input(shape=(dim,1))\n",
    "    x = T2V(t2v_dim)(inp)\n",
    "    x = LSTM(32)(x)\n",
    "    x = Dense(1)(x)\n",
    "    m = Model(inp, x)\n",
    "    return m\n",
    "\n",
    "def NN(dim):\n",
    "    inp = Input(shape=(dim,1))\n",
    "    x = LSTM(32)(inp)\n",
    "    x = Dense(1)(x)\n",
    "    m = Model(inp, x)\n",
    "    return m"
   ]
  },
  {
   "cell_type": "code",
   "execution_count": 7,
   "metadata": {},
   "outputs": [],
   "source": [
    "### PREPARE DATA TO FEED MODELS ###\n",
    "\n",
    "X, Y = [], []\n",
    "for sequence in gen_sequence(df, sequence_length, ['Livello P.Salute Canal Grande (cm)']):\n",
    "    X.append(sequence)\n",
    "    \n",
    "for sequence in gen_labels(df, sequence_length, ['Livello P.Salute Canal Grande (cm)']):\n",
    "    Y.append(sequence)\n",
    "    \n",
    "X = np.asarray(X)\n",
    "Y = np.asarray(Y)"
   ]
  },
  {
   "cell_type": "code",
   "execution_count": 8,
   "metadata": {},
   "outputs": [],
   "source": [
    "### TRAIN TEST SPLIT ###\n",
    "\n",
    "train_dim = int(0.7*len(df))\n",
    "X_train, X_test = X[:train_dim], X[train_dim:]\n",
    "y_train, y_test = Y[:train_dim], Y[train_dim:]"
   ]
  },
  {
   "cell_type": "code",
   "execution_count": 9,
   "metadata": {
    "scrolled": true
   },
   "outputs": [
    {
     "name": "stdout",
     "output_type": "stream",
     "text": [
      "Train on 4905 samples, validate on 1227 samples\n",
      "Epoch 1/100\n",
      " - 2s - loss: 1805.4887 - val_loss: 1270.0642\n",
      "Epoch 2/100\n",
      " - 1s - loss: 1730.7855 - val_loss: 1148.1836\n",
      "Epoch 3/100\n",
      " - 1s - loss: 1516.0782 - val_loss: 966.8481\n",
      "Epoch 4/100\n",
      " - 1s - loss: 1343.3823 - val_loss: 872.4604\n",
      "Epoch 5/100\n",
      " - 1s - loss: 1266.9979 - val_loss: 835.2742\n",
      "Epoch 6/100\n",
      " - 1s - loss: 1224.9488 - val_loss: 804.1972\n",
      "Epoch 7/100\n",
      " - 1s - loss: 1186.6775 - val_loss: 778.9832\n",
      "Epoch 8/100\n",
      " - 1s - loss: 1152.8306 - val_loss: 749.9148\n",
      "Epoch 9/100\n",
      " - 1s - loss: 1121.2801 - val_loss: 731.4761\n",
      "Epoch 10/100\n",
      " - 1s - loss: 1088.6156 - val_loss: 700.0452\n",
      "Epoch 11/100\n",
      " - 1s - loss: 1055.3302 - val_loss: 678.3302\n",
      "Epoch 12/100\n",
      " - 1s - loss: 1023.1545 - val_loss: 648.9630\n",
      "Epoch 13/100\n",
      " - 1s - loss: 990.2469 - val_loss: 629.9951\n",
      "Epoch 14/100\n",
      " - 1s - loss: 962.0220 - val_loss: 603.4364\n",
      "Epoch 15/100\n",
      " - 1s - loss: 940.9858 - val_loss: 610.8592\n",
      "Epoch 16/100\n",
      " - 1s - loss: 927.9859 - val_loss: 577.2560\n",
      "Epoch 17/100\n",
      " - 1s - loss: 892.2696 - val_loss: 549.8715\n",
      "Epoch 18/100\n",
      " - 1s - loss: 862.7002 - val_loss: 527.1686\n",
      "Epoch 19/100\n",
      " - 1s - loss: 834.3676 - val_loss: 507.3054\n",
      "Epoch 20/100\n",
      " - 1s - loss: 811.4860 - val_loss: 487.7059\n",
      "Epoch 21/100\n",
      " - 1s - loss: 788.6274 - val_loss: 472.9364\n",
      "Epoch 22/100\n",
      " - 1s - loss: 765.4172 - val_loss: 453.1965\n",
      "Epoch 23/100\n",
      " - 1s - loss: 742.7186 - val_loss: 436.1264\n",
      "Epoch 24/100\n",
      " - 1s - loss: 722.1882 - val_loss: 422.0085\n",
      "Epoch 25/100\n",
      " - 1s - loss: 702.6188 - val_loss: 418.4949\n",
      "Epoch 26/100\n",
      " - 1s - loss: 704.9762 - val_loss: 425.1525\n",
      "Epoch 27/100\n",
      " - 1s - loss: 688.2213 - val_loss: 401.0683\n",
      "Epoch 28/100\n",
      " - 1s - loss: 663.4379 - val_loss: 381.8167\n",
      "Epoch 29/100\n",
      " - 1s - loss: 641.5147 - val_loss: 366.3267\n",
      "Epoch 30/100\n",
      " - 1s - loss: 622.7231 - val_loss: 354.1246\n",
      "Epoch 31/100\n",
      " - 1s - loss: 606.1711 - val_loss: 339.9195\n",
      "Epoch 32/100\n",
      " - 1s - loss: 589.3376 - val_loss: 328.0114\n",
      "Epoch 33/100\n",
      " - 1s - loss: 573.5782 - val_loss: 316.8753\n",
      "Epoch 34/100\n",
      " - 1s - loss: 558.5794 - val_loss: 307.1562\n",
      "Epoch 35/100\n",
      " - 1s - loss: 544.7750 - val_loss: 297.8763\n",
      "Epoch 36/100\n",
      " - 1s - loss: 533.0532 - val_loss: 287.3397\n",
      "Epoch 37/100\n",
      " - 1s - loss: 519.2588 - val_loss: 288.4271\n",
      "Epoch 38/100\n",
      " - 1s - loss: 508.8714 - val_loss: 274.1768\n",
      "Epoch 39/100\n",
      " - 1s - loss: 497.0722 - val_loss: 264.4589\n",
      "Epoch 40/100\n",
      " - 1s - loss: 483.2127 - val_loss: 254.4916\n",
      "Epoch 41/100\n",
      " - 1s - loss: 470.8267 - val_loss: 245.2117\n",
      "Epoch 42/100\n",
      " - 1s - loss: 458.7206 - val_loss: 239.0014\n",
      "Epoch 43/100\n",
      " - 1s - loss: 457.6827 - val_loss: 240.1778\n",
      "Epoch 44/100\n",
      " - 1s - loss: 443.7651 - val_loss: 227.9147\n",
      "Epoch 45/100\n",
      " - 1s - loss: 430.7407 - val_loss: 221.2565\n",
      "Epoch 46/100\n",
      " - 1s - loss: 420.7621 - val_loss: 213.4282\n",
      "Epoch 47/100\n",
      " - 1s - loss: 410.2375 - val_loss: 206.4114\n",
      "Epoch 48/100\n",
      " - 1s - loss: 401.1871 - val_loss: 201.3637\n",
      "Epoch 49/100\n",
      " - 1s - loss: 392.6440 - val_loss: 195.4133\n",
      "Epoch 50/100\n",
      " - 1s - loss: 385.2752 - val_loss: 193.4883\n",
      "Epoch 51/100\n",
      " - 1s - loss: 377.9688 - val_loss: 184.8663\n",
      "Epoch 52/100\n",
      " - 1s - loss: 367.9376 - val_loss: 179.2068\n",
      "Epoch 53/100\n",
      " - 1s - loss: 360.4541 - val_loss: 175.7482\n",
      "Epoch 54/100\n",
      " - 1s - loss: 352.5017 - val_loss: 168.3372\n",
      "Epoch 55/100\n",
      " - 1s - loss: 344.0388 - val_loss: 163.9292\n",
      "Epoch 56/100\n",
      " - 1s - loss: 337.5065 - val_loss: 159.6117\n",
      "Epoch 57/100\n",
      " - 1s - loss: 329.6745 - val_loss: 157.6493\n",
      "Epoch 58/100\n",
      " - 1s - loss: 323.2757 - val_loss: 152.3700\n",
      "Epoch 59/100\n",
      " - 1s - loss: 317.8040 - val_loss: 148.9113\n",
      "Epoch 60/100\n",
      " - 1s - loss: 310.7368 - val_loss: 144.7614\n",
      "Epoch 61/100\n",
      " - 1s - loss: 304.5501 - val_loss: 140.1254\n",
      "Epoch 62/100\n",
      " - 1s - loss: 298.7694 - val_loss: 137.9283\n",
      "Epoch 63/100\n",
      " - 1s - loss: 292.1964 - val_loss: 133.4182\n",
      "Epoch 64/100\n",
      " - 1s - loss: 286.1052 - val_loss: 129.5949\n",
      "Epoch 65/100\n",
      " - 1s - loss: 280.1894 - val_loss: 126.1826\n",
      "Epoch 66/100\n",
      " - 1s - loss: 274.6524 - val_loss: 124.0915\n",
      "Epoch 67/100\n",
      " - 1s - loss: 271.0195 - val_loss: 122.6548\n",
      "Epoch 68/100\n",
      " - 1s - loss: 264.6978 - val_loss: 119.7181\n",
      "Epoch 69/100\n",
      " - 1s - loss: 259.9529 - val_loss: 117.0986\n",
      "Epoch 70/100\n",
      " - 1s - loss: 255.3136 - val_loss: 113.7077\n",
      "Epoch 71/100\n",
      " - 1s - loss: 250.1680 - val_loss: 109.5747\n",
      "Epoch 72/100\n",
      " - 1s - loss: 245.5392 - val_loss: 107.0737\n",
      "Epoch 73/100\n",
      " - 1s - loss: 240.7122 - val_loss: 104.7257\n",
      "Epoch 74/100\n",
      " - 1s - loss: 236.2438 - val_loss: 101.7929\n",
      "Epoch 75/100\n",
      " - 1s - loss: 232.2695 - val_loss: 100.7971\n",
      "Epoch 76/100\n",
      " - 1s - loss: 230.3830 - val_loss: 99.7542\n",
      "Epoch 77/100\n",
      " - 1s - loss: 226.3984 - val_loss: 97.5498\n",
      "Epoch 78/100\n",
      " - 1s - loss: 222.0488 - val_loss: 96.1399\n",
      "Epoch 79/100\n",
      " - 1s - loss: 218.1749 - val_loss: 95.0138\n",
      "Epoch 80/100\n",
      " - 1s - loss: 214.7877 - val_loss: 92.8741\n",
      "Epoch 81/100\n",
      " - 1s - loss: 210.8988 - val_loss: 91.6931\n",
      "Epoch 82/100\n",
      " - 1s - loss: 210.0675 - val_loss: 88.5874\n",
      "Epoch 83/100\n",
      " - 1s - loss: 204.6080 - val_loss: 86.4625\n",
      "Epoch 84/100\n",
      " - 1s - loss: 200.1926 - val_loss: 84.9128\n",
      "Epoch 85/100\n",
      " - 1s - loss: 196.8383 - val_loss: 83.6307\n",
      "Epoch 86/100\n",
      " - 1s - loss: 194.5301 - val_loss: 82.2880\n",
      "Epoch 87/100\n",
      " - 1s - loss: 192.2011 - val_loss: 81.0591\n",
      "Epoch 88/100\n",
      " - 1s - loss: 189.1763 - val_loss: 84.4079\n",
      "Epoch 89/100\n",
      " - 1s - loss: 186.1611 - val_loss: 79.4351\n",
      "Epoch 90/100\n",
      " - 1s - loss: 185.2538 - val_loss: 77.1453\n",
      "Epoch 91/100\n",
      " - 1s - loss: 182.1153 - val_loss: 79.5678\n",
      "Epoch 92/100\n",
      " - 1s - loss: 178.1461 - val_loss: 74.3838\n",
      "Epoch 93/100\n",
      " - 1s - loss: 174.4187 - val_loss: 72.3351\n",
      "Epoch 94/100\n",
      " - 1s - loss: 171.6796 - val_loss: 72.1979\n",
      "Epoch 95/100\n",
      " - 1s - loss: 169.2299 - val_loss: 71.2310\n",
      "Epoch 96/100\n",
      " - 1s - loss: 167.0506 - val_loss: 72.5209\n",
      "Epoch 97/100\n",
      " - 1s - loss: 164.8993 - val_loss: 68.7029\n",
      "Epoch 98/100\n",
      " - 1s - loss: 162.1703 - val_loss: 68.1540\n",
      "Epoch 99/100\n",
      " - 1s - loss: 159.8450 - val_loss: 66.7250\n",
      "Epoch 100/100\n",
      " - 1s - loss: 158.4657 - val_loss: 66.5555\n"
     ]
    },
    {
     "data": {
      "text/plain": [
       "<keras.callbacks.History at 0x1dea1ba71d0>"
      ]
     },
     "execution_count": 9,
     "metadata": {},
     "output_type": "execute_result"
    }
   ],
   "source": [
    "### FIT T2V + LSTM ###\n",
    "\n",
    "nnT2V = T2V_NN(sequence_length, 128)\n",
    "nnT2V.compile(loss='mse', optimizer='adam')\n",
    "\n",
    "nnT2V.fit(X_train, y_train, epochs=100, batch_size=256, verbose=2, shuffle=True, validation_split=0.2)"
   ]
  },
  {
   "cell_type": "code",
   "execution_count": 10,
   "metadata": {},
   "outputs": [
    {
     "data": {
      "text/plain": [
       "9.232769742562292"
      ]
     },
     "execution_count": 10,
     "metadata": {},
     "output_type": "execute_result"
    }
   ],
   "source": [
    "pred_t2v = nnT2V.predict(X_test).ravel()\n",
    "mean_absolute_error(y_test.ravel(), pred_t2v)"
   ]
  },
  {
   "cell_type": "code",
   "execution_count": 11,
   "metadata": {},
   "outputs": [
    {
     "name": "stdout",
     "output_type": "stream",
     "text": [
      "Train on 4905 samples, validate on 1227 samples\n",
      "Epoch 1/100\n",
      " - 1s - loss: 1812.3703 - val_loss: 1274.2898\n",
      "Epoch 2/100\n",
      " - 0s - loss: 1769.5131 - val_loss: 1236.1319\n",
      "Epoch 3/100\n",
      " - 0s - loss: 1726.6838 - val_loss: 1194.9719\n",
      "Epoch 4/100\n",
      " - 0s - loss: 1672.3331 - val_loss: 1136.4726\n",
      "Epoch 5/100\n",
      " - 0s - loss: 1591.5405 - val_loss: 1059.6528\n",
      "Epoch 6/100\n",
      " - 0s - loss: 1500.0675 - val_loss: 997.8372\n",
      "Epoch 7/100\n",
      " - 0s - loss: 1436.6434 - val_loss: 959.7168\n",
      "Epoch 8/100\n",
      " - 0s - loss: 1393.3023 - val_loss: 930.6751\n",
      "Epoch 9/100\n",
      " - 0s - loss: 1358.5480 - val_loss: 904.5518\n",
      "Epoch 10/100\n",
      " - 0s - loss: 1326.4337 - val_loss: 880.0787\n",
      "Epoch 11/100\n",
      " - 0s - loss: 1296.6664 - val_loss: 856.9271\n",
      "Epoch 12/100\n",
      " - 0s - loss: 1268.9663 - val_loss: 834.6487\n",
      "Epoch 13/100\n",
      " - 0s - loss: 1240.3684 - val_loss: 807.8576\n",
      "Epoch 14/100\n",
      " - 0s - loss: 1207.6688 - val_loss: 784.8106\n",
      "Epoch 15/100\n",
      " - 0s - loss: 1180.4483 - val_loss: 763.8001\n",
      "Epoch 16/100\n",
      " - 0s - loss: 1155.1846 - val_loss: 743.7635\n",
      "Epoch 17/100\n",
      " - 0s - loss: 1130.7691 - val_loss: 724.5624\n",
      "Epoch 18/100\n",
      " - 0s - loss: 1107.1223 - val_loss: 705.8985\n",
      "Epoch 19/100\n",
      " - 0s - loss: 1084.2393 - val_loss: 687.8877\n",
      "Epoch 20/100\n",
      " - 0s - loss: 1062.0287 - val_loss: 670.4303\n",
      "Epoch 21/100\n",
      " - 0s - loss: 1040.4385 - val_loss: 653.5937\n",
      "Epoch 22/100\n",
      " - 0s - loss: 1019.4424 - val_loss: 637.0468\n",
      "Epoch 23/100\n",
      " - 0s - loss: 999.0031 - val_loss: 621.1267\n",
      "Epoch 24/100\n",
      " - 0s - loss: 979.1956 - val_loss: 605.8974\n",
      "Epoch 25/100\n",
      " - 0s - loss: 960.2079 - val_loss: 591.0869\n",
      "Epoch 26/100\n",
      " - 0s - loss: 941.4238 - val_loss: 576.6502\n",
      "Epoch 27/100\n",
      " - 0s - loss: 923.1684 - val_loss: 562.4541\n",
      "Epoch 28/100\n",
      " - 0s - loss: 905.1839 - val_loss: 548.7090\n",
      "Epoch 29/100\n",
      " - 0s - loss: 887.6612 - val_loss: 535.1512\n",
      "Epoch 30/100\n",
      " - 0s - loss: 870.4318 - val_loss: 522.2726\n",
      "Epoch 31/100\n",
      " - 0s - loss: 853.7429 - val_loss: 509.3865\n",
      "Epoch 32/100\n",
      " - 0s - loss: 837.3111 - val_loss: 497.0272\n",
      "Epoch 33/100\n",
      " - 0s - loss: 821.3259 - val_loss: 484.8592\n",
      "Epoch 34/100\n",
      " - 0s - loss: 805.5919 - val_loss: 473.0061\n",
      "Epoch 35/100\n",
      " - 0s - loss: 790.3005 - val_loss: 461.7751\n",
      "Epoch 36/100\n",
      " - 0s - loss: 775.4581 - val_loss: 450.5674\n",
      "Epoch 37/100\n",
      " - 0s - loss: 760.9488 - val_loss: 439.7182\n",
      "Epoch 38/100\n",
      " - 0s - loss: 746.7277 - val_loss: 429.2489\n",
      "Epoch 39/100\n",
      " - 0s - loss: 732.8832 - val_loss: 419.0059\n",
      "Epoch 40/100\n",
      " - 0s - loss: 719.3475 - val_loss: 408.8948\n",
      "Epoch 41/100\n",
      " - 0s - loss: 705.8739 - val_loss: 399.1557\n",
      "Epoch 42/100\n",
      " - 0s - loss: 692.9389 - val_loss: 389.6638\n",
      "Epoch 43/100\n",
      " - 0s - loss: 680.2282 - val_loss: 380.2925\n",
      "Epoch 44/100\n",
      " - 0s - loss: 667.4998 - val_loss: 371.1360\n",
      "Epoch 45/100\n",
      " - 0s - loss: 655.1226 - val_loss: 362.2387\n",
      "Epoch 46/100\n",
      " - 0s - loss: 643.0725 - val_loss: 353.5809\n",
      "Epoch 47/100\n",
      " - 0s - loss: 631.4014 - val_loss: 345.0628\n",
      "Epoch 48/100\n",
      " - 0s - loss: 619.8523 - val_loss: 336.8002\n",
      "Epoch 49/100\n",
      " - 0s - loss: 608.7073 - val_loss: 328.9248\n",
      "Epoch 50/100\n",
      " - 0s - loss: 597.7493 - val_loss: 320.9681\n",
      "Epoch 51/100\n",
      " - 0s - loss: 586.9380 - val_loss: 313.4309\n",
      "Epoch 52/100\n",
      " - 0s - loss: 576.5105 - val_loss: 305.7955\n",
      "Epoch 53/100\n",
      " - 0s - loss: 566.0981 - val_loss: 298.4843\n",
      "Epoch 54/100\n",
      " - 0s - loss: 555.9887 - val_loss: 291.3646\n",
      "Epoch 55/100\n",
      " - 0s - loss: 546.0587 - val_loss: 284.3021\n",
      "Epoch 56/100\n",
      " - 0s - loss: 536.3882 - val_loss: 277.4827\n",
      "Epoch 57/100\n",
      " - 0s - loss: 526.7919 - val_loss: 270.8106\n",
      "Epoch 58/100\n",
      " - 0s - loss: 517.4762 - val_loss: 264.2235\n",
      "Epoch 59/100\n",
      " - 0s - loss: 508.3429 - val_loss: 257.8058\n",
      "Epoch 60/100\n",
      " - 0s - loss: 499.3263 - val_loss: 251.5878\n",
      "Epoch 61/100\n",
      " - 0s - loss: 490.5816 - val_loss: 245.4687\n",
      "Epoch 62/100\n",
      " - 0s - loss: 481.9388 - val_loss: 239.4163\n",
      "Epoch 63/100\n",
      " - 0s - loss: 473.5049 - val_loss: 233.6073\n",
      "Epoch 64/100\n",
      " - 0s - loss: 465.1122 - val_loss: 227.9701\n",
      "Epoch 65/100\n",
      " - 0s - loss: 457.1096 - val_loss: 222.3700\n",
      "Epoch 66/100\n",
      " - 0s - loss: 449.0133 - val_loss: 216.9153\n",
      "Epoch 67/100\n",
      " - 0s - loss: 441.2613 - val_loss: 211.7642\n",
      "Epoch 68/100\n",
      " - 0s - loss: 433.6455 - val_loss: 206.5335\n",
      "Epoch 69/100\n",
      " - 0s - loss: 426.1269 - val_loss: 201.3600\n",
      "Epoch 70/100\n",
      " - 0s - loss: 418.7470 - val_loss: 196.4278\n",
      "Epoch 71/100\n",
      " - 0s - loss: 411.5320 - val_loss: 191.6195\n",
      "Epoch 72/100\n",
      " - 0s - loss: 404.4396 - val_loss: 186.8365\n",
      "Epoch 73/100\n",
      " - 0s - loss: 397.4964 - val_loss: 182.3820\n",
      "Epoch 74/100\n",
      " - 0s - loss: 390.7498 - val_loss: 177.9698\n",
      "Epoch 75/100\n",
      " - 0s - loss: 384.1727 - val_loss: 173.7176\n",
      "Epoch 76/100\n",
      " - 0s - loss: 377.6658 - val_loss: 169.4257\n",
      "Epoch 77/100\n",
      " - 0s - loss: 371.3064 - val_loss: 165.2593\n",
      "Epoch 78/100\n",
      " - 0s - loss: 364.9049 - val_loss: 161.3161\n",
      "Epoch 79/100\n",
      " - 0s - loss: 358.6699 - val_loss: 157.2542\n",
      "Epoch 80/100\n",
      " - 0s - loss: 352.5655 - val_loss: 153.4218\n",
      "Epoch 81/100\n",
      " - 0s - loss: 346.5304 - val_loss: 149.7820\n",
      "Epoch 82/100\n",
      " - 0s - loss: 340.6957 - val_loss: 145.8538\n",
      "Epoch 83/100\n",
      " - 0s - loss: 334.8640 - val_loss: 142.3490\n",
      "Epoch 84/100\n",
      " - 0s - loss: 329.1885 - val_loss: 138.9254\n",
      "Epoch 85/100\n",
      " - 0s - loss: 323.6943 - val_loss: 135.5261\n",
      "Epoch 86/100\n",
      " - 0s - loss: 318.2870 - val_loss: 132.1180\n",
      "Epoch 87/100\n",
      " - 0s - loss: 312.9771 - val_loss: 128.9153\n",
      "Epoch 88/100\n",
      " - 0s - loss: 307.7536 - val_loss: 125.8485\n",
      "Epoch 89/100\n",
      " - 0s - loss: 302.6980 - val_loss: 122.7956\n",
      "Epoch 90/100\n",
      " - 0s - loss: 297.7645 - val_loss: 120.0889\n",
      "Epoch 91/100\n",
      " - 0s - loss: 292.9922 - val_loss: 117.0492\n",
      "Epoch 92/100\n",
      " - 0s - loss: 288.0897 - val_loss: 113.9948\n",
      "Epoch 93/100\n",
      " - 0s - loss: 283.2117 - val_loss: 111.3045\n",
      "Epoch 94/100\n",
      " - 0s - loss: 278.6031 - val_loss: 108.5560\n",
      "Epoch 95/100\n",
      " - 0s - loss: 273.5982 - val_loss: 104.5747\n",
      "Epoch 96/100\n",
      " - 0s - loss: 266.1900 - val_loss: 101.6360\n",
      "Epoch 97/100\n",
      " - 0s - loss: 260.6038 - val_loss: 98.8004\n",
      "Epoch 98/100\n",
      " - 0s - loss: 255.9735 - val_loss: 96.1217\n",
      "Epoch 99/100\n",
      " - 0s - loss: 251.6034 - val_loss: 93.7938\n",
      "Epoch 100/100\n",
      " - 0s - loss: 247.3925 - val_loss: 91.3090\n"
     ]
    },
    {
     "data": {
      "text/plain": [
       "<keras.callbacks.History at 0x1dea4aaeac8>"
      ]
     },
     "execution_count": 11,
     "metadata": {},
     "output_type": "execute_result"
    }
   ],
   "source": [
    "### FIT SIMPLE LSTM ###\n",
    "\n",
    "nn = NN(sequence_length)\n",
    "nn.compile(loss='mse', optimizer='adam')\n",
    "\n",
    "nn.fit(X_train, y_train, epochs=100, batch_size=256, verbose=2, shuffle=True, validation_split=0.2)"
   ]
  },
  {
   "cell_type": "code",
   "execution_count": 12,
   "metadata": {},
   "outputs": [
    {
     "data": {
      "text/plain": [
       "13.124163846747116"
      ]
     },
     "execution_count": 12,
     "metadata": {},
     "output_type": "execute_result"
    }
   ],
   "source": [
    "pred_nn = nn.predict(X_test).ravel()\n",
    "mean_absolute_error(y_test.ravel(), pred_nn)"
   ]
  },
  {
   "cell_type": "markdown",
   "metadata": {},
   "source": [
    "# COMPARE RESULTS WITH BOOTSRAPPING"
   ]
  },
  {
   "cell_type": "code",
   "execution_count": 13,
   "metadata": {},
   "outputs": [
    {
     "data": {
      "image/png": "[encoded data removed]",
      "text/plain": [
       "<Figure size 576x432 with 1 Axes>"
      ]
     },
     "metadata": {
      "needs_background": "light"
     },
     "output_type": "display_data"
    }
   ],
   "source": [
    "### PLOT PREDICTION DISTRIBUTIONS ###\n",
    "\n",
    "plt.figure(figsize=(8,6))\n",
    "plt.hist(pred_t2v, bins=30, alpha = 0.6)\n",
    "plt.hist(pred_nn, bins=30, alpha = 0.6)\n",
    "\n",
    "np.set_printoptions(False)"
   ]
  },
  {
   "cell_type": "code",
   "execution_count": 14,
   "metadata": {},
   "outputs": [],
   "source": [
    "### BOOTSTRAPPED PREDICTION DISTRIBUTIONS ###\n",
    "\n",
    "sample_t2v_pred = []\n",
    "for _ in range(1000):\n",
    "    sample_mean = np.random.choice(pred_t2v, 100).mean()\n",
    "    sample_t2v_pred.append(sample_mean)\n",
    "\n",
    "sample_nn_pred = []\n",
    "for _ in range(1000):\n",
    "    sample_mean = np.random.choice(pred_nn, 100).mean()\n",
    "    sample_nn_pred.append(sample_mean)"
   ]
  },
  {
   "cell_type": "code",
   "execution_count": 15,
   "metadata": {},
   "outputs": [
    {
     "data": {
      "image/png": "[encoded data removed]",
      "text/plain": [
       "<Figure size 576x432 with 1 Axes>"
      ]
     },
     "metadata": {
      "needs_background": "light"
     },
     "output_type": "display_data"
    }
   ],
   "source": [
    "### PLOT BOOTSTRAPPED PREDICTION DISTRIBUTIONS ###\n",
    "\n",
    "plt.figure(figsize=(8,6))\n",
    "plt.hist(sample_t2v_pred, bins=30, alpha = 0.6)\n",
    "plt.hist(sample_nn_pred, bins=30, alpha = 0.6)\n",
    "\n",
    "np.set_printoptions(False)"
   ]
  },
  {
   "cell_type": "code",
   "execution_count": 16,
   "metadata": {},
   "outputs": [
    {
     "data": {
      "text/plain": [
       "31.223380088806152"
      ]
     },
     "execution_count": 16,
     "metadata": {},
     "output_type": "execute_result"
    }
   ],
   "source": [
    "np.quantile(sample_nn_pred, 0.9)"
   ]
  },
  {
   "cell_type": "code",
   "execution_count": 17,
   "metadata": {},
   "outputs": [
    {
     "data": {
      "text/plain": [
       "31.994068908691407"
      ]
     },
     "execution_count": 17,
     "metadata": {},
     "output_type": "execute_result"
    }
   ],
   "source": [
    "np.quantile(sample_t2v_pred, 0.1)"
   ]
  },
  {
   "cell_type": "code",
   "execution_count": null,
   "metadata": {},
   "outputs": [],
   "source": []
  }
 ],
 "metadata": {
  "kernelspec": {
   "display_name": "Python 3",
   "language": "python",
   "name": "python3"
  },
  "language_info": {
   "codemirror_mode": {
    "name": "ipython",
    "version": 3
   },
   "file_extension": ".py",
   "mimetype": "text/x-python",
   "name": "python",
   "nbconvert_exporter": "python",
   "pygments_lexer": "ipython3",
   "version": "3.6.9"
  }
 },
 "nbformat": 4,
 "nbformat_minor": 2
}
